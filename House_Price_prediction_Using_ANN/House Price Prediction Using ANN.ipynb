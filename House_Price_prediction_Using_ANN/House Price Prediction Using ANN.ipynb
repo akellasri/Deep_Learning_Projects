{
 "cells": [
  {
   "cell_type": "code",
   "execution_count": 10,
   "metadata": {},
   "outputs": [],
   "source": [
    "# import all the libraries\n",
    "import pandas as pd\n",
    "import numpy as np\n",
    "import matplotlib.pyplot as plt\n",
    "import seaborn as sns\n",
    "%matplotlib inline"
   ]
  },
  {
   "cell_type": "code",
   "execution_count": 11,
   "metadata": {},
   "outputs": [
    {
     "data": {
      "text/html": [
       "<div>\n",
       "<style scoped>\n",
       "    .dataframe tbody tr th:only-of-type {\n",
       "        vertical-align: middle;\n",
       "    }\n",
       "\n",
       "    .dataframe tbody tr th {\n",
       "        vertical-align: top;\n",
       "    }\n",
       "\n",
       "    .dataframe thead th {\n",
       "        text-align: right;\n",
       "    }\n",
       "</style>\n",
       "<table border=\"1\" class=\"dataframe\">\n",
       "  <thead>\n",
       "    <tr style=\"text-align: right;\">\n",
       "      <th></th>\n",
       "      <th>LotArea</th>\n",
       "      <th>OverallQual</th>\n",
       "      <th>OverallCond</th>\n",
       "      <th>TotalBsmtSF</th>\n",
       "      <th>FullBath</th>\n",
       "      <th>HalfBath</th>\n",
       "      <th>BedroomAbvGr</th>\n",
       "      <th>TotRmsAbvGrd</th>\n",
       "      <th>Fireplaces</th>\n",
       "      <th>GarageArea</th>\n",
       "      <th>AboveMedianPrice</th>\n",
       "    </tr>\n",
       "  </thead>\n",
       "  <tbody>\n",
       "    <tr>\n",
       "      <th>0</th>\n",
       "      <td>8450</td>\n",
       "      <td>7</td>\n",
       "      <td>5</td>\n",
       "      <td>856</td>\n",
       "      <td>2</td>\n",
       "      <td>1</td>\n",
       "      <td>3</td>\n",
       "      <td>8</td>\n",
       "      <td>0</td>\n",
       "      <td>548</td>\n",
       "      <td>1</td>\n",
       "    </tr>\n",
       "    <tr>\n",
       "      <th>1</th>\n",
       "      <td>9600</td>\n",
       "      <td>6</td>\n",
       "      <td>8</td>\n",
       "      <td>1262</td>\n",
       "      <td>2</td>\n",
       "      <td>0</td>\n",
       "      <td>3</td>\n",
       "      <td>6</td>\n",
       "      <td>1</td>\n",
       "      <td>460</td>\n",
       "      <td>1</td>\n",
       "    </tr>\n",
       "    <tr>\n",
       "      <th>2</th>\n",
       "      <td>11250</td>\n",
       "      <td>7</td>\n",
       "      <td>5</td>\n",
       "      <td>920</td>\n",
       "      <td>2</td>\n",
       "      <td>1</td>\n",
       "      <td>3</td>\n",
       "      <td>6</td>\n",
       "      <td>1</td>\n",
       "      <td>608</td>\n",
       "      <td>1</td>\n",
       "    </tr>\n",
       "    <tr>\n",
       "      <th>3</th>\n",
       "      <td>9550</td>\n",
       "      <td>7</td>\n",
       "      <td>5</td>\n",
       "      <td>756</td>\n",
       "      <td>1</td>\n",
       "      <td>0</td>\n",
       "      <td>3</td>\n",
       "      <td>7</td>\n",
       "      <td>1</td>\n",
       "      <td>642</td>\n",
       "      <td>0</td>\n",
       "    </tr>\n",
       "    <tr>\n",
       "      <th>4</th>\n",
       "      <td>14260</td>\n",
       "      <td>8</td>\n",
       "      <td>5</td>\n",
       "      <td>1145</td>\n",
       "      <td>2</td>\n",
       "      <td>1</td>\n",
       "      <td>4</td>\n",
       "      <td>9</td>\n",
       "      <td>1</td>\n",
       "      <td>836</td>\n",
       "      <td>1</td>\n",
       "    </tr>\n",
       "  </tbody>\n",
       "</table>\n",
       "</div>"
      ],
      "text/plain": [
       "   LotArea  OverallQual  OverallCond  TotalBsmtSF  FullBath  HalfBath  \\\n",
       "0     8450            7            5          856         2         1   \n",
       "1     9600            6            8         1262         2         0   \n",
       "2    11250            7            5          920         2         1   \n",
       "3     9550            7            5          756         1         0   \n",
       "4    14260            8            5         1145         2         1   \n",
       "\n",
       "   BedroomAbvGr  TotRmsAbvGrd  Fireplaces  GarageArea  AboveMedianPrice  \n",
       "0             3             8           0         548                 1  \n",
       "1             3             6           1         460                 1  \n",
       "2             3             6           1         608                 1  \n",
       "3             3             7           1         642                 0  \n",
       "4             4             9           1         836                 1  "
      ]
     },
     "execution_count": 11,
     "metadata": {},
     "output_type": "execute_result"
    }
   ],
   "source": [
    "# Load the dataset\n",
    "df = pd.read_csv(\"house_price.csv\")\n",
    "df.head()"
   ]
  },
  {
   "cell_type": "code",
   "execution_count": 12,
   "metadata": {
    "scrolled": true
   },
   "outputs": [
    {
     "data": {
      "text/plain": [
       "Index(['LotArea', 'OverallQual', 'OverallCond', 'TotalBsmtSF', 'FullBath',\n",
       "       'HalfBath', 'BedroomAbvGr', 'TotRmsAbvGrd', 'Fireplaces', 'GarageArea',\n",
       "       'AboveMedianPrice'],\n",
       "      dtype='object')"
      ]
     },
     "execution_count": 12,
     "metadata": {},
     "output_type": "execute_result"
    }
   ],
   "source": [
    "df.columns"
   ]
  },
  {
   "cell_type": "code",
   "execution_count": 13,
   "metadata": {},
   "outputs": [
    {
     "data": {
      "text/plain": [
       "(1460, 11)"
      ]
     },
     "execution_count": 13,
     "metadata": {},
     "output_type": "execute_result"
    }
   ],
   "source": [
    "df.shape"
   ]
  },
  {
   "cell_type": "code",
   "execution_count": 14,
   "metadata": {},
   "outputs": [
    {
     "data": {
      "image/png": "[encoded data removed]",
      "text/plain": [
       "<Figure size 432x432 with 1 Axes>"
      ]
     },
     "metadata": {
      "needs_background": "light"
     },
     "output_type": "display_data"
    }
   ],
   "source": [
    "# Visualizing the count of 'AboveMedianPrice' in the dataset\n",
    "plt.figure(figsize=(6,6))\n",
    "sns.countplot(x='AboveMedianPrice', data=df)\n",
    "plt.xlabel('0:prices above the median price, 1: prices below the median price')\n",
    "plt.ylabel('Count')\n",
    "plt.title('Median price Visualization')\n",
    "plt.show()"
   ]
  },
  {
   "cell_type": "code",
   "execution_count": 15,
   "metadata": {},
   "outputs": [
    {
     "data": {
      "text/plain": [
       "0    732\n",
       "1    728\n",
       "Name: AboveMedianPrice, dtype: int64"
      ]
     },
     "execution_count": 15,
     "metadata": {},
     "output_type": "execute_result"
    }
   ],
   "source": [
    "# Count of 0 and 1\n",
    "df['AboveMedianPrice'].value_counts()"
   ]
  },
  {
   "cell_type": "code",
   "execution_count": 16,
   "metadata": {},
   "outputs": [
    {
     "data": {
      "text/plain": [
       "LotArea             False\n",
       "OverallQual         False\n",
       "OverallCond         False\n",
       "TotalBsmtSF         False\n",
       "FullBath            False\n",
       "HalfBath            False\n",
       "BedroomAbvGr        False\n",
       "TotRmsAbvGrd        False\n",
       "Fireplaces          False\n",
       "GarageArea          False\n",
       "AboveMedianPrice    False\n",
       "dtype: bool"
      ]
     },
     "execution_count": 16,
     "metadata": {},
     "output_type": "execute_result"
    }
   ],
   "source": [
    "df.isnull().any()"
   ]
  },
  {
   "cell_type": "markdown",
   "metadata": {},
   "source": [
    "## Data Preprocessing ##"
   ]
  },
  {
   "cell_type": "code",
   "execution_count": 17,
   "metadata": {},
   "outputs": [],
   "source": [
    "# Feature columns\n",
    "X = df.drop('AboveMedianPrice', axis=1)\n",
    "# Tatget column\n",
    "Y = df['AboveMedianPrice']"
   ]
  },
  {
   "cell_type": "code",
   "execution_count": 18,
   "metadata": {},
   "outputs": [],
   "source": [
    "# Normalising all the feature columns :Feature Scaling \n",
    "from sklearn import preprocessing\n",
    "min_max_scaler = preprocessing.MinMaxScaler()\n",
    "X_scale = min_max_scaler.fit_transform(X)"
   ]
  },
  {
   "cell_type": "code",
   "execution_count": 19,
   "metadata": {},
   "outputs": [
    {
     "data": {
      "text/plain": [
       "array([[0.0334198 , 0.66666667, 0.5       , ..., 0.5       , 0.        ,\n",
       "        0.3864598 ],\n",
       "       [0.03879502, 0.55555556, 0.875     , ..., 0.33333333, 0.33333333,\n",
       "        0.32440056],\n",
       "       [0.04650728, 0.66666667, 0.5       , ..., 0.33333333, 0.33333333,\n",
       "        0.42877292],\n",
       "       ...,\n",
       "       [0.03618687, 0.66666667, 1.        , ..., 0.58333333, 0.66666667,\n",
       "        0.17771509],\n",
       "       [0.03934189, 0.44444444, 0.625     , ..., 0.25      , 0.        ,\n",
       "        0.16925247],\n",
       "       [0.04037019, 0.44444444, 0.625     , ..., 0.33333333, 0.        ,\n",
       "        0.19464034]])"
      ]
     },
     "execution_count": 19,
     "metadata": {},
     "output_type": "execute_result"
    }
   ],
   "source": [
    "# Display\n",
    "X_scale"
   ]
  },
  {
   "cell_type": "code",
   "execution_count": 20,
   "metadata": {
    "scrolled": true
   },
   "outputs": [
    {
     "name": "stdout",
     "output_type": "stream",
     "text": [
      "(1022, 10) (219, 10) (219, 10) (1022,) (219,) (219,)\n"
     ]
    }
   ],
   "source": [
    "# Splitting the dataset into train and test sets\n",
    "from sklearn.model_selection import train_test_split\n",
    "X_train, X_val_and_test, Y_train, Y_val_and_test = train_test_split(X_scale, Y, test_size=0.3)\n",
    "X_val, X_test, Y_val, Y_test = train_test_split(X_val_and_test, Y_val_and_test, test_size=0.5)\n",
    "print(X_train.shape, X_val.shape, X_test.shape, Y_train.shape, Y_val.shape, Y_test.shape)"
   ]
  },
  {
   "cell_type": "markdown",
   "metadata": {},
   "source": [
    "## Building and Training our First Neural Network ##"
   ]
  },
  {
   "cell_type": "code",
   "execution_count": 21,
   "metadata": {},
   "outputs": [],
   "source": [
    "import keras\n",
    "from keras.models import Sequential\n",
    "from keras.layers import Dense"
   ]
  },
  {
   "cell_type": "code",
   "execution_count": 22,
   "metadata": {},
   "outputs": [],
   "source": [
    "model = Sequential([\n",
    "    Dense(32, activation='relu', input_shape=(10,)),\n",
    "    Dense(32, activation='relu'),\n",
    "    Dense(1, activation='sigmoid'),\n",
    "])"
   ]
  },
  {
   "cell_type": "code",
   "execution_count": 23,
   "metadata": {},
   "outputs": [],
   "source": [
    "model.compile(optimizer='sgd',\n",
    "              loss='binary_crossentropy',\n",
    "              metrics=['accuracy'])"
   ]
  },
  {
   "cell_type": "code",
   "execution_count": 24,
   "metadata": {},
   "outputs": [
    {
     "name": "stdout",
     "output_type": "stream",
     "text": [
      "Epoch 1/100\n",
      "32/32 [==============================] - 0s 14ms/step - loss: 0.6850 - accuracy: 0.6556 - val_loss: 0.6810 - val_accuracy: 0.7123\n",
      "Epoch 2/100\n",
      "32/32 [==============================] - 0s 3ms/step - loss: 0.6813 - accuracy: 0.6908 - val_loss: 0.6771 - val_accuracy: 0.7397\n",
      "Epoch 3/100\n",
      "32/32 [==============================] - 0s 3ms/step - loss: 0.6779 - accuracy: 0.6957 - val_loss: 0.6735 - val_accuracy: 0.7580\n",
      "Epoch 4/100\n",
      "32/32 [==============================] - 0s 3ms/step - loss: 0.6745 - accuracy: 0.7172 - val_loss: 0.6701 - val_accuracy: 0.7580\n",
      "Epoch 5/100\n",
      "32/32 [==============================] - 0s 3ms/step - loss: 0.6713 - accuracy: 0.7319 - val_loss: 0.6668 - val_accuracy: 0.7626\n",
      "Epoch 6/100\n",
      "32/32 [==============================] - 0s 3ms/step - loss: 0.6682 - accuracy: 0.7456 - val_loss: 0.6637 - val_accuracy: 0.7763\n",
      "Epoch 7/100\n",
      "32/32 [==============================] - 0s 3ms/step - loss: 0.6650 - accuracy: 0.7554 - val_loss: 0.6605 - val_accuracy: 0.7854\n",
      "Epoch 8/100\n",
      "32/32 [==============================] - 0s 3ms/step - loss: 0.6618 - accuracy: 0.7681 - val_loss: 0.6571 - val_accuracy: 0.7945\n",
      "Epoch 9/100\n",
      "32/32 [==============================] - 0s 3ms/step - loss: 0.6584 - accuracy: 0.7740 - val_loss: 0.6536 - val_accuracy: 0.8082\n",
      "Epoch 10/100\n",
      "32/32 [==============================] - 0s 3ms/step - loss: 0.6549 - accuracy: 0.7710 - val_loss: 0.6498 - val_accuracy: 0.8082\n",
      "Epoch 11/100\n",
      "32/32 [==============================] - 0s 3ms/step - loss: 0.6512 - accuracy: 0.7916 - val_loss: 0.6460 - val_accuracy: 0.8219\n",
      "Epoch 12/100\n",
      "32/32 [==============================] - 0s 3ms/step - loss: 0.6473 - accuracy: 0.7906 - val_loss: 0.6419 - val_accuracy: 0.8082\n",
      "Epoch 13/100\n",
      "32/32 [==============================] - 0s 3ms/step - loss: 0.6433 - accuracy: 0.7877 - val_loss: 0.6376 - val_accuracy: 0.8082\n",
      "Epoch 14/100\n",
      "32/32 [==============================] - 0s 3ms/step - loss: 0.6389 - accuracy: 0.7838 - val_loss: 0.6330 - val_accuracy: 0.8037\n",
      "Epoch 15/100\n",
      "32/32 [==============================] - 0s 3ms/step - loss: 0.6344 - accuracy: 0.7945 - val_loss: 0.6283 - val_accuracy: 0.8037\n",
      "Epoch 16/100\n",
      "32/32 [==============================] - 0s 3ms/step - loss: 0.6297 - accuracy: 0.7847 - val_loss: 0.6234 - val_accuracy: 0.8082\n",
      "Epoch 17/100\n",
      "32/32 [==============================] - 0s 3ms/step - loss: 0.6247 - accuracy: 0.7945 - val_loss: 0.6183 - val_accuracy: 0.7945\n",
      "Epoch 18/100\n",
      "32/32 [==============================] - 0s 3ms/step - loss: 0.6196 - accuracy: 0.7926 - val_loss: 0.6129 - val_accuracy: 0.8082\n",
      "Epoch 19/100\n",
      "32/32 [==============================] - 0s 3ms/step - loss: 0.6143 - accuracy: 0.8023 - val_loss: 0.6073 - val_accuracy: 0.8082\n",
      "Epoch 20/100\n",
      "32/32 [==============================] - 0s 3ms/step - loss: 0.6087 - accuracy: 0.8043 - val_loss: 0.6015 - val_accuracy: 0.7945\n",
      "Epoch 21/100\n",
      "32/32 [==============================] - 0s 3ms/step - loss: 0.6029 - accuracy: 0.8043 - val_loss: 0.5954 - val_accuracy: 0.7991\n",
      "Epoch 22/100\n",
      "32/32 [==============================] - 0s 3ms/step - loss: 0.5968 - accuracy: 0.8043 - val_loss: 0.5891 - val_accuracy: 0.8037\n",
      "Epoch 23/100\n",
      "32/32 [==============================] - 0s 3ms/step - loss: 0.5903 - accuracy: 0.8131 - val_loss: 0.5826 - val_accuracy: 0.8037\n",
      "Epoch 24/100\n",
      "32/32 [==============================] - 0s 3ms/step - loss: 0.5836 - accuracy: 0.8092 - val_loss: 0.5757 - val_accuracy: 0.8128\n",
      "Epoch 25/100\n",
      "32/32 [==============================] - 0s 3ms/step - loss: 0.5767 - accuracy: 0.8190 - val_loss: 0.5688 - val_accuracy: 0.7991\n",
      "Epoch 26/100\n",
      "32/32 [==============================] - 0s 3ms/step - loss: 0.5696 - accuracy: 0.8151 - val_loss: 0.5614 - val_accuracy: 0.8174\n",
      "Epoch 27/100\n",
      "32/32 [==============================] - 0s 3ms/step - loss: 0.5623 - accuracy: 0.8209 - val_loss: 0.5540 - val_accuracy: 0.8082\n",
      "Epoch 28/100\n",
      "32/32 [==============================] - 0s 3ms/step - loss: 0.5545 - accuracy: 0.8239 - val_loss: 0.5462 - val_accuracy: 0.8128\n",
      "Epoch 29/100\n",
      "32/32 [==============================] - 0s 3ms/step - loss: 0.5469 - accuracy: 0.8239 - val_loss: 0.5384 - val_accuracy: 0.8174\n",
      "Epoch 30/100\n",
      "32/32 [==============================] - 0s 3ms/step - loss: 0.5388 - accuracy: 0.8209 - val_loss: 0.5303 - val_accuracy: 0.8356\n",
      "Epoch 31/100\n",
      "32/32 [==============================] - 0s 3ms/step - loss: 0.5307 - accuracy: 0.8258 - val_loss: 0.5223 - val_accuracy: 0.8219\n",
      "Epoch 32/100\n",
      "32/32 [==============================] - 0s 3ms/step - loss: 0.5224 - accuracy: 0.8307 - val_loss: 0.5142 - val_accuracy: 0.8219\n",
      "Epoch 33/100\n",
      "32/32 [==============================] - 0s 3ms/step - loss: 0.5141 - accuracy: 0.8327 - val_loss: 0.5062 - val_accuracy: 0.8219\n",
      "Epoch 34/100\n",
      "32/32 [==============================] - 0s 3ms/step - loss: 0.5060 - accuracy: 0.8297 - val_loss: 0.4980 - val_accuracy: 0.8265\n",
      "Epoch 35/100\n",
      "32/32 [==============================] - 0s 3ms/step - loss: 0.4976 - accuracy: 0.8366 - val_loss: 0.4900 - val_accuracy: 0.8265\n",
      "Epoch 36/100\n",
      "32/32 [==============================] - 0s 3ms/step - loss: 0.4895 - accuracy: 0.8356 - val_loss: 0.4821 - val_accuracy: 0.8311\n",
      "Epoch 37/100\n",
      "32/32 [==============================] - 0s 3ms/step - loss: 0.4813 - accuracy: 0.8376 - val_loss: 0.4741 - val_accuracy: 0.8402\n",
      "Epoch 38/100\n",
      "32/32 [==============================] - 0s 3ms/step - loss: 0.4732 - accuracy: 0.8395 - val_loss: 0.4666 - val_accuracy: 0.8447\n",
      "Epoch 39/100\n",
      "32/32 [==============================] - 0s 3ms/step - loss: 0.4653 - accuracy: 0.8425 - val_loss: 0.4594 - val_accuracy: 0.8402\n",
      "Epoch 40/100\n",
      "32/32 [==============================] - 0s 3ms/step - loss: 0.4576 - accuracy: 0.8503 - val_loss: 0.4527 - val_accuracy: 0.8402\n",
      "Epoch 41/100\n",
      "32/32 [==============================] - 0s 3ms/step - loss: 0.4505 - accuracy: 0.8415 - val_loss: 0.4452 - val_accuracy: 0.8447\n",
      "Epoch 42/100\n",
      "32/32 [==============================] - 0s 3ms/step - loss: 0.4430 - accuracy: 0.8415 - val_loss: 0.4381 - val_accuracy: 0.8584\n",
      "Epoch 43/100\n",
      "32/32 [==============================] - 0s 3ms/step - loss: 0.4361 - accuracy: 0.8493 - val_loss: 0.4317 - val_accuracy: 0.8584\n",
      "Epoch 44/100\n",
      "32/32 [==============================] - 0s 3ms/step - loss: 0.4293 - accuracy: 0.8474 - val_loss: 0.4254 - val_accuracy: 0.8584\n",
      "Epoch 45/100\n",
      "32/32 [==============================] - 0s 3ms/step - loss: 0.4228 - accuracy: 0.8513 - val_loss: 0.4197 - val_accuracy: 0.8539\n",
      "Epoch 46/100\n",
      "32/32 [==============================] - 0s 3ms/step - loss: 0.4164 - accuracy: 0.8542 - val_loss: 0.4139 - val_accuracy: 0.8584\n",
      "Epoch 47/100\n",
      "32/32 [==============================] - 0s 3ms/step - loss: 0.4105 - accuracy: 0.8562 - val_loss: 0.4088 - val_accuracy: 0.8584\n",
      "Epoch 48/100\n",
      "32/32 [==============================] - 0s 3ms/step - loss: 0.4046 - accuracy: 0.8503 - val_loss: 0.4033 - val_accuracy: 0.8630\n",
      "Epoch 49/100\n",
      "32/32 [==============================] - 0s 3ms/step - loss: 0.3994 - accuracy: 0.8562 - val_loss: 0.3985 - val_accuracy: 0.8676\n",
      "Epoch 50/100\n",
      "32/32 [==============================] - 0s 3ms/step - loss: 0.3943 - accuracy: 0.8552 - val_loss: 0.3940 - val_accuracy: 0.8676\n",
      "Epoch 51/100\n",
      "32/32 [==============================] - 0s 3ms/step - loss: 0.3891 - accuracy: 0.8552 - val_loss: 0.3902 - val_accuracy: 0.8539\n",
      "Epoch 52/100\n",
      "32/32 [==============================] - 0s 3ms/step - loss: 0.3847 - accuracy: 0.8532 - val_loss: 0.3855 - val_accuracy: 0.8676\n",
      "Epoch 53/100\n",
      "32/32 [==============================] - 0s 3ms/step - loss: 0.3800 - accuracy: 0.8601 - val_loss: 0.3819 - val_accuracy: 0.8630\n",
      "Epoch 54/100\n",
      "32/32 [==============================] - 0s 3ms/step - loss: 0.3751 - accuracy: 0.8571 - val_loss: 0.3778 - val_accuracy: 0.8767\n",
      "Epoch 55/100\n",
      "32/32 [==============================] - 0s 3ms/step - loss: 0.3713 - accuracy: 0.8620 - val_loss: 0.3750 - val_accuracy: 0.8584\n",
      "Epoch 56/100\n",
      "32/32 [==============================] - 0s 3ms/step - loss: 0.3673 - accuracy: 0.8581 - val_loss: 0.3713 - val_accuracy: 0.8630\n",
      "Epoch 57/100\n",
      "32/32 [==============================] - 0s 3ms/step - loss: 0.3633 - accuracy: 0.8601 - val_loss: 0.3681 - val_accuracy: 0.8630\n",
      "Epoch 58/100\n",
      "32/32 [==============================] - 0s 3ms/step - loss: 0.3605 - accuracy: 0.8581 - val_loss: 0.3652 - val_accuracy: 0.8676\n"
     ]
    },
    {
     "name": "stdout",
     "output_type": "stream",
     "text": [
      "Epoch 59/100\n",
      "32/32 [==============================] - 0s 3ms/step - loss: 0.3565 - accuracy: 0.8620 - val_loss: 0.3623 - val_accuracy: 0.8676\n",
      "Epoch 60/100\n",
      "32/32 [==============================] - 0s 3ms/step - loss: 0.3536 - accuracy: 0.8611 - val_loss: 0.3596 - val_accuracy: 0.8676\n",
      "Epoch 61/100\n",
      "32/32 [==============================] - 0s 3ms/step - loss: 0.3497 - accuracy: 0.8620 - val_loss: 0.3573 - val_accuracy: 0.8721\n",
      "Epoch 62/100\n",
      "32/32 [==============================] - 0s 3ms/step - loss: 0.3471 - accuracy: 0.8640 - val_loss: 0.3558 - val_accuracy: 0.8676\n",
      "Epoch 63/100\n",
      "32/32 [==============================] - 0s 3ms/step - loss: 0.3446 - accuracy: 0.8669 - val_loss: 0.3526 - val_accuracy: 0.8676\n",
      "Epoch 64/100\n",
      "32/32 [==============================] - 0s 3ms/step - loss: 0.3417 - accuracy: 0.8699 - val_loss: 0.3512 - val_accuracy: 0.8676\n",
      "Epoch 65/100\n",
      "32/32 [==============================] - 0s 3ms/step - loss: 0.3394 - accuracy: 0.8699 - val_loss: 0.3488 - val_accuracy: 0.8676\n",
      "Epoch 66/100\n",
      "32/32 [==============================] - 0s 3ms/step - loss: 0.3369 - accuracy: 0.8708 - val_loss: 0.3466 - val_accuracy: 0.8676\n",
      "Epoch 67/100\n",
      "32/32 [==============================] - 0s 3ms/step - loss: 0.3345 - accuracy: 0.8689 - val_loss: 0.3448 - val_accuracy: 0.8676\n",
      "Epoch 68/100\n",
      "32/32 [==============================] - 0s 3ms/step - loss: 0.3327 - accuracy: 0.8689 - val_loss: 0.3435 - val_accuracy: 0.8721\n",
      "Epoch 69/100\n",
      "32/32 [==============================] - 0s 3ms/step - loss: 0.3303 - accuracy: 0.8718 - val_loss: 0.3421 - val_accuracy: 0.8584\n",
      "Epoch 70/100\n",
      "32/32 [==============================] - 0s 3ms/step - loss: 0.3283 - accuracy: 0.8748 - val_loss: 0.3404 - val_accuracy: 0.8539\n",
      "Epoch 71/100\n",
      "32/32 [==============================] - 0s 3ms/step - loss: 0.3268 - accuracy: 0.8738 - val_loss: 0.3395 - val_accuracy: 0.8630\n",
      "Epoch 72/100\n",
      "32/32 [==============================] - 0s 3ms/step - loss: 0.3246 - accuracy: 0.8718 - val_loss: 0.3392 - val_accuracy: 0.8630\n",
      "Epoch 73/100\n",
      "32/32 [==============================] - 0s 3ms/step - loss: 0.3224 - accuracy: 0.8718 - val_loss: 0.3362 - val_accuracy: 0.8584\n",
      "Epoch 74/100\n",
      "32/32 [==============================] - 0s 3ms/step - loss: 0.3204 - accuracy: 0.8718 - val_loss: 0.3348 - val_accuracy: 0.8584\n",
      "Epoch 75/100\n",
      "32/32 [==============================] - 0s 3ms/step - loss: 0.3190 - accuracy: 0.8718 - val_loss: 0.3341 - val_accuracy: 0.8630\n",
      "Epoch 76/100\n",
      "32/32 [==============================] - 0s 3ms/step - loss: 0.3179 - accuracy: 0.8748 - val_loss: 0.3331 - val_accuracy: 0.8630\n",
      "Epoch 77/100\n",
      "32/32 [==============================] - 0s 3ms/step - loss: 0.3159 - accuracy: 0.8757 - val_loss: 0.3316 - val_accuracy: 0.8630\n",
      "Epoch 78/100\n",
      "32/32 [==============================] - 0s 3ms/step - loss: 0.3144 - accuracy: 0.8728 - val_loss: 0.3318 - val_accuracy: 0.8630\n",
      "Epoch 79/100\n",
      "32/32 [==============================] - 0s 3ms/step - loss: 0.3131 - accuracy: 0.8738 - val_loss: 0.3297 - val_accuracy: 0.8676\n",
      "Epoch 80/100\n",
      "32/32 [==============================] - 0s 3ms/step - loss: 0.3121 - accuracy: 0.8708 - val_loss: 0.3300 - val_accuracy: 0.8630\n",
      "Epoch 81/100\n",
      "32/32 [==============================] - 0s 3ms/step - loss: 0.3105 - accuracy: 0.8708 - val_loss: 0.3286 - val_accuracy: 0.8630\n",
      "Epoch 82/100\n",
      "32/32 [==============================] - 0s 3ms/step - loss: 0.3095 - accuracy: 0.8728 - val_loss: 0.3279 - val_accuracy: 0.8630\n",
      "Epoch 83/100\n",
      "32/32 [==============================] - 0s 3ms/step - loss: 0.3088 - accuracy: 0.8728 - val_loss: 0.3278 - val_accuracy: 0.8630\n",
      "Epoch 84/100\n",
      "32/32 [==============================] - 0s 3ms/step - loss: 0.3063 - accuracy: 0.8796 - val_loss: 0.3253 - val_accuracy: 0.8676\n",
      "Epoch 85/100\n",
      "32/32 [==============================] - 0s 3ms/step - loss: 0.3051 - accuracy: 0.8748 - val_loss: 0.3280 - val_accuracy: 0.8584\n",
      "Epoch 86/100\n",
      "32/32 [==============================] - 0s 3ms/step - loss: 0.3047 - accuracy: 0.8816 - val_loss: 0.3243 - val_accuracy: 0.8630\n",
      "Epoch 87/100\n",
      "32/32 [==============================] - 0s 3ms/step - loss: 0.3032 - accuracy: 0.8757 - val_loss: 0.3260 - val_accuracy: 0.8584\n",
      "Epoch 88/100\n",
      "32/32 [==============================] - 0s 3ms/step - loss: 0.3022 - accuracy: 0.8767 - val_loss: 0.3235 - val_accuracy: 0.8676\n",
      "Epoch 89/100\n",
      "32/32 [==============================] - 0s 3ms/step - loss: 0.3009 - accuracy: 0.8757 - val_loss: 0.3256 - val_accuracy: 0.8630\n",
      "Epoch 90/100\n",
      "32/32 [==============================] - 0s 3ms/step - loss: 0.3005 - accuracy: 0.8777 - val_loss: 0.3223 - val_accuracy: 0.8676\n",
      "Epoch 91/100\n",
      "32/32 [==============================] - 0s 3ms/step - loss: 0.2993 - accuracy: 0.8748 - val_loss: 0.3252 - val_accuracy: 0.8630\n",
      "Epoch 92/100\n",
      "32/32 [==============================] - 0s 3ms/step - loss: 0.2989 - accuracy: 0.8826 - val_loss: 0.3206 - val_accuracy: 0.8676\n",
      "Epoch 93/100\n",
      "32/32 [==============================] - 0s 3ms/step - loss: 0.2974 - accuracy: 0.8796 - val_loss: 0.3203 - val_accuracy: 0.8676\n",
      "Epoch 94/100\n",
      "32/32 [==============================] - 0s 3ms/step - loss: 0.2960 - accuracy: 0.8787 - val_loss: 0.3223 - val_accuracy: 0.8630\n",
      "Epoch 95/100\n",
      "32/32 [==============================] - 0s 3ms/step - loss: 0.2964 - accuracy: 0.8796 - val_loss: 0.3213 - val_accuracy: 0.8630\n",
      "Epoch 96/100\n",
      "32/32 [==============================] - 0s 3ms/step - loss: 0.2947 - accuracy: 0.8836 - val_loss: 0.3186 - val_accuracy: 0.8676\n",
      "Epoch 97/100\n",
      "32/32 [==============================] - 0s 3ms/step - loss: 0.2942 - accuracy: 0.8816 - val_loss: 0.3209 - val_accuracy: 0.8630\n",
      "Epoch 98/100\n",
      "32/32 [==============================] - 0s 3ms/step - loss: 0.2938 - accuracy: 0.8845 - val_loss: 0.3176 - val_accuracy: 0.8630\n",
      "Epoch 99/100\n",
      "32/32 [==============================] - 0s 3ms/step - loss: 0.2924 - accuracy: 0.8777 - val_loss: 0.3206 - val_accuracy: 0.8630\n",
      "Epoch 100/100\n",
      "32/32 [==============================] - ETA: 0s - loss: 0.1673 - accuracy: 0.93 - 0s 3ms/step - loss: 0.2919 - accuracy: 0.8855 - val_loss: 0.3179 - val_accuracy: 0.8630\n"
     ]
    }
   ],
   "source": [
    "hist = model.fit(X_train, Y_train,\n",
    "          batch_size=32, epochs=100,\n",
    "          validation_data=(X_val, Y_val))"
   ]
  },
  {
   "cell_type": "code",
   "execution_count": 25,
   "metadata": {},
   "outputs": [
    {
     "name": "stdout",
     "output_type": "stream",
     "text": [
      "7/7 [==============================] - 0s 2ms/step - loss: 0.1902 - accuracy: 0.9361\n"
     ]
    },
    {
     "data": {
      "text/plain": [
       "0.9360730648040771"
      ]
     },
     "execution_count": 25,
     "metadata": {},
     "output_type": "execute_result"
    }
   ],
   "source": [
    "model.evaluate(X_test, Y_test)[1]"
   ]
  },
  {
   "cell_type": "code",
   "execution_count": 26,
   "metadata": {},
   "outputs": [
    {
     "data": {
      "image/png": "[encoded data removed]",
      "text/plain": [
       "<Figure size 432x288 with 1 Axes>"
      ]
     },
     "metadata": {
      "needs_background": "light"
     },
     "output_type": "display_data"
    }
   ],
   "source": [
    "# Plot Model loss\n",
    "import matplotlib\n",
    "plt.plot(hist.history['loss'])\n",
    "plt.plot(hist.history['val_loss'])\n",
    "plt.title('Model loss')\n",
    "plt.ylabel('Loss')\n",
    "plt.xlabel('Epoch')\n",
    "plt.legend(['Train', 'Val'], loc='upper right')\n",
    "plt.show()"
   ]
  },
  {
   "cell_type": "code",
   "execution_count": 28,
   "metadata": {},
   "outputs": [
    {
     "data": {
      "image/png": "[encoded data removed]",
      "text/plain": [
       "<Figure size 432x288 with 1 Axes>"
      ]
     },
     "metadata": {
      "needs_background": "light"
     },
     "output_type": "display_data"
    }
   ],
   "source": [
    "# Plot Model accuracy\n",
    "plt.plot(hist.history['accuracy'])\n",
    "plt.plot(hist.history['val_accuracy'])\n",
    "plt.title('Model accuracy')\n",
    "plt.ylabel('Accuracy')\n",
    "plt.xlabel('Epoch')\n",
    "plt.legend(['Train', 'Val'], loc='lower right')\n",
    "plt.show()"
   ]
  },
  {
   "cell_type": "markdown",
   "metadata": {},
   "source": [
    "## L2 regularization and dropout ##\n",
    "### Regularization helps in reducing Overfitting for our model ###"
   ]
  },
  {
   "cell_type": "code",
   "execution_count": 29,
   "metadata": {},
   "outputs": [],
   "source": [
    "# Import regulizers and Dropout\n",
    "from keras.layers import Dropout\n",
    "from keras import regularizers"
   ]
  },
  {
   "cell_type": "code",
   "execution_count": 30,
   "metadata": {},
   "outputs": [],
   "source": [
    "# Added kernel_regularizer: Regularizer to apply a penalty on the layer's kernel\n",
    "model_2 = Sequential([\n",
    "    Dense(1000, activation='relu', input_shape=(10,)),\n",
    "    Dense(1000, activation='relu'),\n",
    "    Dense(1000, activation='relu'),\n",
    "    Dense(1000, activation='relu'),\n",
    "    Dense(1, activation='sigmoid'),\n",
    "])"
   ]
  },
  {
   "cell_type": "code",
   "execution_count": 31,
   "metadata": {},
   "outputs": [],
   "source": [
    "# Compile\n",
    "model_2.compile(optimizer='adam',\n",
    "              loss='binary_crossentropy',\n",
    "              metrics=['accuracy'])"
   ]
  },
  {
   "cell_type": "code",
   "execution_count": 32,
   "metadata": {},
   "outputs": [
    {
     "name": "stdout",
     "output_type": "stream",
     "text": [
      "Epoch 1/100\n",
      "32/32 [==============================] - 1s 42ms/step - loss: 0.5012 - accuracy: 0.7750 - val_loss: 0.4199 - val_accuracy: 0.8174\n",
      "Epoch 2/100\n",
      "32/32 [==============================] - 1s 32ms/step - loss: 0.3607 - accuracy: 0.8493 - val_loss: 0.3397 - val_accuracy: 0.8676\n",
      "Epoch 3/100\n",
      "32/32 [==============================] - 1s 28ms/step - loss: 0.3083 - accuracy: 0.8689 - val_loss: 0.3431 - val_accuracy: 0.8402\n",
      "Epoch 4/100\n",
      "32/32 [==============================] - 1s 30ms/step - loss: 0.2707 - accuracy: 0.8845 - val_loss: 0.2887 - val_accuracy: 0.8858\n",
      "Epoch 5/100\n",
      "32/32 [==============================] - 1s 31ms/step - loss: 0.2938 - accuracy: 0.8796 - val_loss: 0.3445 - val_accuracy: 0.8584\n",
      "Epoch 6/100\n",
      "32/32 [==============================] - 1s 31ms/step - loss: 0.2611 - accuracy: 0.8914 - val_loss: 0.3170 - val_accuracy: 0.8767\n",
      "Epoch 7/100\n",
      "32/32 [==============================] - 1s 30ms/step - loss: 0.2630 - accuracy: 0.8826 - val_loss: 0.3456 - val_accuracy: 0.8539\n",
      "Epoch 8/100\n",
      "32/32 [==============================] - 1s 32ms/step - loss: 0.2917 - accuracy: 0.8689 - val_loss: 0.3058 - val_accuracy: 0.8721\n",
      "Epoch 9/100\n",
      "32/32 [==============================] - 1s 33ms/step - loss: 0.2768 - accuracy: 0.8836 - val_loss: 0.3989 - val_accuracy: 0.8402\n",
      "Epoch 10/100\n",
      "32/32 [==============================] - 1s 31ms/step - loss: 0.2742 - accuracy: 0.8904 - val_loss: 0.3323 - val_accuracy: 0.8539\n",
      "Epoch 11/100\n",
      "32/32 [==============================] - ETA: 0s - loss: 0.2471 - accuracy: 0.89 - 1s 32ms/step - loss: 0.2487 - accuracy: 0.8924 - val_loss: 0.3134 - val_accuracy: 0.8904\n",
      "Epoch 12/100\n",
      "32/32 [==============================] - 1s 33ms/step - loss: 0.2663 - accuracy: 0.8777 - val_loss: 0.3052 - val_accuracy: 0.8904\n",
      "Epoch 13/100\n",
      "32/32 [==============================] - 1s 33ms/step - loss: 0.2336 - accuracy: 0.8982 - val_loss: 0.3921 - val_accuracy: 0.8402\n",
      "Epoch 14/100\n",
      "32/32 [==============================] - 1s 33ms/step - loss: 0.2418 - accuracy: 0.8845 - val_loss: 0.3585 - val_accuracy: 0.8539\n",
      "Epoch 15/100\n",
      "32/32 [==============================] - 1s 33ms/step - loss: 0.2190 - accuracy: 0.9041 - val_loss: 0.3270 - val_accuracy: 0.8721\n",
      "Epoch 16/100\n",
      "32/32 [==============================] - 1s 32ms/step - loss: 0.2238 - accuracy: 0.9080 - val_loss: 0.3141 - val_accuracy: 0.8813\n",
      "Epoch 17/100\n",
      "32/32 [==============================] - 1s 31ms/step - loss: 0.2261 - accuracy: 0.8963 - val_loss: 0.3007 - val_accuracy: 0.8950\n",
      "Epoch 18/100\n",
      "32/32 [==============================] - 1s 28ms/step - loss: 0.2147 - accuracy: 0.9022 - val_loss: 0.3169 - val_accuracy: 0.8995\n",
      "Epoch 19/100\n",
      "32/32 [==============================] - 1s 30ms/step - loss: 0.2035 - accuracy: 0.9090 - val_loss: 0.3824 - val_accuracy: 0.8630\n",
      "Epoch 20/100\n",
      "32/32 [==============================] - 1s 32ms/step - loss: 0.2309 - accuracy: 0.8973 - val_loss: 0.3045 - val_accuracy: 0.9041\n",
      "Epoch 21/100\n",
      "32/32 [==============================] - 1s 32ms/step - loss: 0.2081 - accuracy: 0.9051 - val_loss: 0.3877 - val_accuracy: 0.8539\n",
      "Epoch 22/100\n",
      "32/32 [==============================] - 1s 31ms/step - loss: 0.2381 - accuracy: 0.8875 - val_loss: 0.3607 - val_accuracy: 0.8950\n",
      "Epoch 23/100\n",
      "32/32 [==============================] - 1s 31ms/step - loss: 0.2230 - accuracy: 0.9041 - val_loss: 0.3577 - val_accuracy: 0.8950\n",
      "Epoch 24/100\n",
      "32/32 [==============================] - 1s 32ms/step - loss: 0.2181 - accuracy: 0.9070 - val_loss: 0.3744 - val_accuracy: 0.8584\n",
      "Epoch 25/100\n",
      "32/32 [==============================] - 1s 32ms/step - loss: 0.2052 - accuracy: 0.9080 - val_loss: 0.3168 - val_accuracy: 0.8767\n",
      "Epoch 26/100\n",
      "32/32 [==============================] - 1s 31ms/step - loss: 0.2192 - accuracy: 0.9002 - val_loss: 0.3196 - val_accuracy: 0.8904\n",
      "Epoch 27/100\n",
      "32/32 [==============================] - 1s 32ms/step - loss: 0.2029 - accuracy: 0.9051 - val_loss: 0.3348 - val_accuracy: 0.8950\n",
      "Epoch 28/100\n",
      "32/32 [==============================] - 1s 31ms/step - loss: 0.1918 - accuracy: 0.9139 - val_loss: 0.3578 - val_accuracy: 0.8858\n",
      "Epoch 29/100\n",
      "32/32 [==============================] - 1s 31ms/step - loss: 0.1856 - accuracy: 0.9051 - val_loss: 0.3577 - val_accuracy: 0.8950\n",
      "Epoch 30/100\n",
      "32/32 [==============================] - 1s 31ms/step - loss: 0.2229 - accuracy: 0.8943 - val_loss: 0.3398 - val_accuracy: 0.8858\n",
      "Epoch 31/100\n",
      "32/32 [==============================] - 1s 31ms/step - loss: 0.1820 - accuracy: 0.9178 - val_loss: 0.4209 - val_accuracy: 0.8630\n",
      "Epoch 32/100\n",
      "32/32 [==============================] - 1s 31ms/step - loss: 0.1945 - accuracy: 0.9149 - val_loss: 0.3944 - val_accuracy: 0.8721\n",
      "Epoch 33/100\n",
      "32/32 [==============================] - 1s 28ms/step - loss: 0.1855 - accuracy: 0.9149 - val_loss: 0.3796 - val_accuracy: 0.8676\n",
      "Epoch 34/100\n",
      "32/32 [==============================] - 1s 27ms/step - loss: 0.1817 - accuracy: 0.9149 - val_loss: 0.4220 - val_accuracy: 0.8539\n",
      "Epoch 35/100\n",
      "32/32 [==============================] - 1s 30ms/step - loss: 0.1863 - accuracy: 0.9119 - val_loss: 0.3826 - val_accuracy: 0.8447\n",
      "Epoch 36/100\n",
      "32/32 [==============================] - 1s 30ms/step - loss: 0.1802 - accuracy: 0.9168 - val_loss: 0.4073 - val_accuracy: 0.8904\n",
      "Epoch 37/100\n",
      "32/32 [==============================] - 1s 31ms/step - loss: 0.1737 - accuracy: 0.9305 - val_loss: 0.3783 - val_accuracy: 0.8630\n",
      "Epoch 38/100\n",
      "32/32 [==============================] - 1s 31ms/step - loss: 0.1788 - accuracy: 0.9217 - val_loss: 0.3422 - val_accuracy: 0.8584\n",
      "Epoch 39/100\n",
      "32/32 [==============================] - 1s 32ms/step - loss: 0.1697 - accuracy: 0.9227 - val_loss: 0.5118 - val_accuracy: 0.8630\n",
      "Epoch 40/100\n",
      "32/32 [==============================] - 1s 31ms/step - loss: 0.1794 - accuracy: 0.9188 - val_loss: 0.4202 - val_accuracy: 0.8539\n",
      "Epoch 41/100\n",
      "32/32 [==============================] - 1s 31ms/step - loss: 0.1911 - accuracy: 0.9090 - val_loss: 0.4161 - val_accuracy: 0.8676\n",
      "Epoch 42/100\n",
      "32/32 [==============================] - 1s 32ms/step - loss: 0.1629 - accuracy: 0.9247 - val_loss: 0.4059 - val_accuracy: 0.8950\n",
      "Epoch 43/100\n",
      "32/32 [==============================] - 1s 30ms/step - loss: 0.1644 - accuracy: 0.9295 - val_loss: 0.4411 - val_accuracy: 0.8676\n",
      "Epoch 44/100\n",
      "32/32 [==============================] - 1s 30ms/step - loss: 0.1849 - accuracy: 0.9100 - val_loss: 0.4814 - val_accuracy: 0.8630\n",
      "Epoch 45/100\n",
      "32/32 [==============================] - 1s 30ms/step - loss: 0.1808 - accuracy: 0.9286 - val_loss: 0.3861 - val_accuracy: 0.8904\n",
      "Epoch 46/100\n",
      "32/32 [==============================] - 1s 31ms/step - loss: 0.1803 - accuracy: 0.9149 - val_loss: 0.4299 - val_accuracy: 0.8584\n",
      "Epoch 47/100\n",
      "32/32 [==============================] - 1s 29ms/step - loss: 0.1722 - accuracy: 0.9207 - val_loss: 0.4203 - val_accuracy: 0.8721\n",
      "Epoch 48/100\n",
      "32/32 [==============================] - 1s 29ms/step - loss: 0.1592 - accuracy: 0.9247 - val_loss: 0.4580 - val_accuracy: 0.8767\n",
      "Epoch 49/100\n",
      "32/32 [==============================] - 1s 29ms/step - loss: 0.1525 - accuracy: 0.9354 - val_loss: 0.4332 - val_accuracy: 0.8721\n",
      "Epoch 50/100\n",
      "32/32 [==============================] - 1s 29ms/step - loss: 0.1701 - accuracy: 0.9207 - val_loss: 0.4770 - val_accuracy: 0.8813\n",
      "Epoch 51/100\n",
      "32/32 [==============================] - 1s 32ms/step - loss: 0.1551 - accuracy: 0.9315 - val_loss: 0.4697 - val_accuracy: 0.8767\n",
      "Epoch 52/100\n",
      "32/32 [==============================] - 1s 30ms/step - loss: 0.1515 - accuracy: 0.9354 - val_loss: 0.4733 - val_accuracy: 0.8539\n",
      "Epoch 53/100\n",
      "32/32 [==============================] - 1s 31ms/step - loss: 0.1523 - accuracy: 0.9344 - val_loss: 0.5176 - val_accuracy: 0.8539\n",
      "Epoch 54/100\n",
      "32/32 [==============================] - 1s 31ms/step - loss: 0.1699 - accuracy: 0.9188 - val_loss: 0.4689 - val_accuracy: 0.8858\n",
      "Epoch 55/100\n",
      "32/32 [==============================] - 1s 30ms/step - loss: 0.1793 - accuracy: 0.9335 - val_loss: 0.4548 - val_accuracy: 0.8767\n",
      "Epoch 56/100\n",
      "32/32 [==============================] - 1s 30ms/step - loss: 0.1623 - accuracy: 0.9247 - val_loss: 0.5298 - val_accuracy: 0.8858\n",
      "Epoch 57/100\n",
      "32/32 [==============================] - 1s 30ms/step - loss: 0.1601 - accuracy: 0.9237 - val_loss: 0.5390 - val_accuracy: 0.8447\n",
      "Epoch 58/100\n"
     ]
    },
    {
     "name": "stdout",
     "output_type": "stream",
     "text": [
      "32/32 [==============================] - 1s 30ms/step - loss: 0.1346 - accuracy: 0.9344 - val_loss: 0.5634 - val_accuracy: 0.8858\n",
      "Epoch 59/100\n",
      "32/32 [==============================] - 1s 30ms/step - loss: 0.1544 - accuracy: 0.9305 - val_loss: 0.4466 - val_accuracy: 0.8676\n",
      "Epoch 60/100\n",
      "32/32 [==============================] - 1s 32ms/step - loss: 0.1562 - accuracy: 0.9305 - val_loss: 0.4151 - val_accuracy: 0.8539\n",
      "Epoch 61/100\n",
      "32/32 [==============================] - 1s 33ms/step - loss: 0.1629 - accuracy: 0.9178 - val_loss: 0.4557 - val_accuracy: 0.8402\n",
      "Epoch 62/100\n",
      "32/32 [==============================] - 1s 32ms/step - loss: 0.1729 - accuracy: 0.9344 - val_loss: 0.4013 - val_accuracy: 0.8721\n",
      "Epoch 63/100\n",
      "32/32 [==============================] - 1s 33ms/step - loss: 0.1501 - accuracy: 0.9305 - val_loss: 0.6310 - val_accuracy: 0.8676\n",
      "Epoch 64/100\n",
      "32/32 [==============================] - 1s 32ms/step - loss: 0.1396 - accuracy: 0.9393 - val_loss: 0.4692 - val_accuracy: 0.8676\n",
      "Epoch 65/100\n",
      "32/32 [==============================] - 1s 28ms/step - loss: 0.1451 - accuracy: 0.9354 - val_loss: 0.5641 - val_accuracy: 0.8493\n",
      "Epoch 66/100\n",
      "32/32 [==============================] - 1s 29ms/step - loss: 0.1401 - accuracy: 0.9374 - val_loss: 0.5407 - val_accuracy: 0.8539\n",
      "Epoch 67/100\n",
      "32/32 [==============================] - 1s 32ms/step - loss: 0.1499 - accuracy: 0.9374 - val_loss: 0.5806 - val_accuracy: 0.8584\n",
      "Epoch 68/100\n",
      "32/32 [==============================] - 1s 32ms/step - loss: 0.1326 - accuracy: 0.9384 - val_loss: 0.6712 - val_accuracy: 0.8356\n",
      "Epoch 69/100\n",
      "32/32 [==============================] - 1s 32ms/step - loss: 0.1396 - accuracy: 0.9286 - val_loss: 0.6585 - val_accuracy: 0.8447\n",
      "Epoch 70/100\n",
      "32/32 [==============================] - 1s 31ms/step - loss: 0.1687 - accuracy: 0.9286 - val_loss: 0.4707 - val_accuracy: 0.8813\n",
      "Epoch 71/100\n",
      "32/32 [==============================] - 1s 32ms/step - loss: 0.1249 - accuracy: 0.9432 - val_loss: 0.6102 - val_accuracy: 0.8493\n",
      "Epoch 72/100\n",
      "32/32 [==============================] - 1s 32ms/step - loss: 0.1538 - accuracy: 0.9344 - val_loss: 0.5412 - val_accuracy: 0.8584\n",
      "Epoch 73/100\n",
      "32/32 [==============================] - 1s 31ms/step - loss: 0.1325 - accuracy: 0.9374 - val_loss: 0.6608 - val_accuracy: 0.8630\n",
      "Epoch 74/100\n",
      "32/32 [==============================] - 1s 32ms/step - loss: 0.1086 - accuracy: 0.9648 - val_loss: 0.8754 - val_accuracy: 0.8539\n",
      "Epoch 75/100\n",
      "32/32 [==============================] - 1s 31ms/step - loss: 0.1260 - accuracy: 0.9472 - val_loss: 0.6035 - val_accuracy: 0.8767\n",
      "Epoch 76/100\n",
      "32/32 [==============================] - 1s 31ms/step - loss: 0.1433 - accuracy: 0.9305 - val_loss: 0.7805 - val_accuracy: 0.8721\n",
      "Epoch 77/100\n",
      "32/32 [==============================] - 1s 31ms/step - loss: 0.1339 - accuracy: 0.9384 - val_loss: 0.5805 - val_accuracy: 0.8904\n",
      "Epoch 78/100\n",
      "32/32 [==============================] - 1s 31ms/step - loss: 0.1263 - accuracy: 0.9442 - val_loss: 0.6891 - val_accuracy: 0.8767\n",
      "Epoch 79/100\n",
      "32/32 [==============================] - 1s 32ms/step - loss: 0.1096 - accuracy: 0.9511 - val_loss: 0.6885 - val_accuracy: 0.8630\n",
      "Epoch 80/100\n",
      "32/32 [==============================] - 1s 30ms/step - loss: 0.1500 - accuracy: 0.9432 - val_loss: 0.4720 - val_accuracy: 0.8447\n",
      "Epoch 81/100\n",
      "32/32 [==============================] - 1s 28ms/step - loss: 0.1565 - accuracy: 0.9266 - val_loss: 0.6728 - val_accuracy: 0.8493\n",
      "Epoch 82/100\n",
      "32/32 [==============================] - 1s 31ms/step - loss: 0.1404 - accuracy: 0.9384 - val_loss: 0.6387 - val_accuracy: 0.8630\n",
      "Epoch 83/100\n",
      "32/32 [==============================] - 1s 31ms/step - loss: 0.0972 - accuracy: 0.9579 - val_loss: 0.6506 - val_accuracy: 0.8539\n",
      "Epoch 84/100\n",
      "32/32 [==============================] - 1s 31ms/step - loss: 0.1149 - accuracy: 0.9501 - val_loss: 0.6464 - val_accuracy: 0.8721\n",
      "Epoch 85/100\n",
      "32/32 [==============================] - 1s 31ms/step - loss: 0.1489 - accuracy: 0.9393 - val_loss: 0.5671 - val_accuracy: 0.8858\n",
      "Epoch 86/100\n",
      "32/32 [==============================] - 1s 32ms/step - loss: 0.1089 - accuracy: 0.9560 - val_loss: 0.6660 - val_accuracy: 0.8767\n",
      "Epoch 87/100\n",
      "32/32 [==============================] - 1s 31ms/step - loss: 0.1453 - accuracy: 0.9374 - val_loss: 0.4975 - val_accuracy: 0.8813\n",
      "Epoch 88/100\n",
      "32/32 [==============================] - 1s 31ms/step - loss: 0.1399 - accuracy: 0.9452 - val_loss: 0.6211 - val_accuracy: 0.8813\n",
      "Epoch 89/100\n",
      "32/32 [==============================] - 1s 31ms/step - loss: 0.1140 - accuracy: 0.9530 - val_loss: 0.6907 - val_accuracy: 0.8584\n",
      "Epoch 90/100\n",
      "32/32 [==============================] - 1s 31ms/step - loss: 0.1087 - accuracy: 0.9560 - val_loss: 0.7352 - val_accuracy: 0.8721\n",
      "Epoch 91/100\n",
      "32/32 [==============================] - 1s 30ms/step - loss: 0.1038 - accuracy: 0.9599 - val_loss: 0.6904 - val_accuracy: 0.8539\n",
      "Epoch 92/100\n",
      "32/32 [==============================] - ETA: 0s - loss: 0.1044 - accuracy: 0.95 - 1s 31ms/step - loss: 0.1044 - accuracy: 0.9550 - val_loss: 1.0604 - val_accuracy: 0.8539\n",
      "Epoch 93/100\n",
      "32/32 [==============================] - 1s 30ms/step - loss: 0.1291 - accuracy: 0.9491 - val_loss: 0.7053 - val_accuracy: 0.8539\n",
      "Epoch 94/100\n",
      "32/32 [==============================] - 1s 30ms/step - loss: 0.0911 - accuracy: 0.9638 - val_loss: 0.7502 - val_accuracy: 0.8356\n",
      "Epoch 95/100\n",
      "32/32 [==============================] - 1s 31ms/step - loss: 0.1049 - accuracy: 0.9560 - val_loss: 0.7712 - val_accuracy: 0.8174\n",
      "Epoch 96/100\n",
      "32/32 [==============================] - 1s 30ms/step - loss: 0.1066 - accuracy: 0.9569 - val_loss: 0.7806 - val_accuracy: 0.8493\n",
      "Epoch 97/100\n",
      "32/32 [==============================] - 1s 28ms/step - loss: 0.0875 - accuracy: 0.9638 - val_loss: 0.8578 - val_accuracy: 0.8676\n",
      "Epoch 98/100\n",
      "32/32 [==============================] - 1s 30ms/step - loss: 0.0954 - accuracy: 0.9638 - val_loss: 0.7740 - val_accuracy: 0.8493\n",
      "Epoch 99/100\n",
      "32/32 [==============================] - 1s 31ms/step - loss: 0.1067 - accuracy: 0.9550 - val_loss: 0.7113 - val_accuracy: 0.8767\n",
      "Epoch 100/100\n",
      "32/32 [==============================] - 1s 31ms/step - loss: 0.0991 - accuracy: 0.9579 - val_loss: 0.7651 - val_accuracy: 0.8493\n"
     ]
    }
   ],
   "source": [
    "# Fit the model\n",
    "hist_2 = model_2.fit(X_train, Y_train,\n",
    "          batch_size=32, epochs=100,\n",
    "          validation_data=(X_val, Y_val))"
   ]
  },
  {
   "cell_type": "code",
   "execution_count": 33,
   "metadata": {},
   "outputs": [
    {
     "data": {
      "image/png": "[encoded data removed]",
      "text/plain": [
       "<Figure size 432x288 with 1 Axes>"
      ]
     },
     "metadata": {
      "needs_background": "light"
     },
     "output_type": "display_data"
    }
   ],
   "source": [
    "# Plot Model Loss\n",
    "plt.plot(hist_2.history['loss'])\n",
    "plt.plot(hist_2.history['val_loss'])\n",
    "plt.title('Model loss')\n",
    "plt.ylabel('Loss')\n",
    "plt.xlabel('Epoch')\n",
    "plt.legend(['Train', 'Val'], loc='upper right')\n",
    "plt.show()"
   ]
  },
  {
   "cell_type": "code",
   "execution_count": 34,
   "metadata": {},
   "outputs": [
    {
     "data": {
      "image/png": "[encoded data removed]",
      "text/plain": [
       "<Figure size 432x288 with 1 Axes>"
      ]
     },
     "metadata": {
      "needs_background": "light"
     },
     "output_type": "display_data"
    }
   ],
   "source": [
    "# Plot Model accuracy\n",
    "plt.plot(hist_2.history['accuracy'])\n",
    "plt.plot(hist_2.history['val_accuracy'])\n",
    "plt.title('Model accuracy')\n",
    "plt.ylabel('Accuracy')\n",
    "plt.xlabel('Epoch')\n",
    "plt.legend(['Train', 'Val'], loc='lower right')\n",
    "plt.show()"
   ]
  },
  {
   "cell_type": "code",
   "execution_count": 36,
   "metadata": {},
   "outputs": [
    {
     "name": "stdout",
     "output_type": "stream",
     "text": [
      "accuracy: 91.78%\n"
     ]
    }
   ],
   "source": [
    "# Evaluate the model\n",
    "scores= model_2.evaluate(X_test, Y_test, verbose=0)\n",
    "print(\"%s: %.2f%%\" % (model.metrics_names[1], scores[1]*100))"
   ]
  },
  {
   "cell_type": "markdown",
   "metadata": {},
   "source": [
    "#### Achieved 91.78%  accuracy using ANN"
   ]
  }
 ],
 "metadata": {
  "kernelspec": {
   "display_name": "Python 3",
   "language": "python",
   "name": "python3"
  },
  "language_info": {
   "codemirror_mode": {
    "name": "ipython",
    "version": 3
   },
   "file_extension": ".py",
   "mimetype": "text/x-python",
   "name": "python",
   "nbconvert_exporter": "python",
   "pygments_lexer": "ipython3",
   "version": "3.8.8"
  }
 },
 "nbformat": 4,
 "nbformat_minor": 4
}
